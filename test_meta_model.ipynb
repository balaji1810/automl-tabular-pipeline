{
 "cells": [
  {
   "cell_type": "code",
   "execution_count": 1,
   "id": "ed860d09",
   "metadata": {},
   "outputs": [],
   "source": [
    "from __future__ import annotations\n",
    "from src.automl.variable_meta_learner import DatasetMetaLearner\n",
    "from pathlib import Path\n",
    "import pandas as pd"
   ]
  },
  {
   "cell_type": "code",
   "execution_count": 2,
   "id": "97f03e59",
   "metadata": {},
   "outputs": [
    {
     "name": "stdout",
     "output_type": "stream",
     "text": [
      "MetaLearner initialized with device: cpu\n",
      "Model loaded from: variable_length_meta_model.pth\n"
     ]
    }
   ],
   "source": [
    "meta_learner = DatasetMetaLearner()\n",
    "meta_learner.load(\"variable_length_meta_model.pth\")"
   ]
  },
  {
   "cell_type": "code",
   "execution_count": 3,
   "id": "a8507789",
   "metadata": {},
   "outputs": [],
   "source": [
    "FILE = Path(\".\").absolute().resolve()\n",
    "DATADIR = FILE / \"data\"\n",
    "path = DATADIR / 'brazilian_houses' / str(1)\n",
    "\n",
    "# X_train_path = path / \"X_train.parquet\"\n",
    "# y_train_path = path / \"y_train.parquet\"\n",
    "X_test_path = path / \"X_test.parquet\"\n",
    "y_test_path = path / \"y_test.parquet\"\n",
    "\n",
    "# X_train=pd.read_parquet(X_train_path)\n",
    "# y_train=pd.read_parquet(y_train_path)\n",
    "X_test=pd.read_parquet(X_test_path)\n",
    "y_test=pd.read_parquet(y_test_path)"
   ]
  },
  {
   "cell_type": "code",
   "execution_count": 4,
   "id": "606fb6bb",
   "metadata": {},
   "outputs": [
    {
     "name": "stdout",
     "output_type": "stream",
     "text": [
      "Recommended Algorithm: RandomForestRegressor\n",
      "Algorithm Ranking: [('RandomForestRegressor', 0.6818934), ('LGBMRegressor', 0.11445034), ('HistGradientBoostingRegressor', 0.084534615), ('XGBRegressor', 0.08098302), ('GradientBoostingRegressor', 0.03813858)]\n"
     ]
    }
   ],
   "source": [
    "recommended_algorithm, algorithm_ranking = meta_learner.predict(X_test, y_test)\n",
    "print(f\"Recommended Algorithm: {recommended_algorithm}\")\n",
    "print(f\"Algorithm Ranking: {algorithm_ranking}\")"
   ]
  },
  {
   "cell_type": "code",
   "execution_count": null,
   "id": "c5c1dc68",
   "metadata": {},
   "outputs": [],
   "source": []
  }
 ],
 "metadata": {
  "kernelspec": {
   "display_name": "amlexam",
   "language": "python",
   "name": "python3"
  },
  "language_info": {
   "codemirror_mode": {
    "name": "ipython",
    "version": 3
   },
   "file_extension": ".py",
   "mimetype": "text/x-python",
   "name": "python",
   "nbconvert_exporter": "python",
   "pygments_lexer": "ipython3",
   "version": "3.11.13"
  }
 },
 "nbformat": 4,
 "nbformat_minor": 5
}
