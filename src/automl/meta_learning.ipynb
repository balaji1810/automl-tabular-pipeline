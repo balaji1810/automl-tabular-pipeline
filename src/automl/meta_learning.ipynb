{
 "cells": [
  {
   "cell_type": "code",
   "execution_count": 20,
   "id": "66496405",
   "metadata": {},
   "outputs": [],
   "source": [
    "from pathlib import Path\n",
    "# from automl import data\n",
    "import pandas as pd"
   ]
  },
  {
   "cell_type": "code",
   "execution_count": 23,
   "id": "8d9de757",
   "metadata": {},
   "outputs": [],
   "source": [
    "# current_dir = Path(\".\").parent\n",
    "FILE = Path(\"../../\").absolute().resolve()\n",
    "DATADIR = FILE / \"data\"\n",
    "path = DATADIR / 'wine_quality' / str(1)\n",
    "# [\"bike_sharing_demand\", \"brazilian_houses\", \"superconductivity\", \"wine_quality\", \"yprop_4_1\"]\n",
    "\n",
    "X_train_path = path / \"X_train.parquet\"\n",
    "y_train_path = path / \"y_train.parquet\"\n",
    "X_test_path = path / \"X_test.parquet\"\n",
    "y_test_path = path / \"y_test.parquet\""
   ]
  },
  {
   "cell_type": "code",
   "execution_count": 26,
   "id": "583c1925",
   "metadata": {},
   "outputs": [],
   "source": [
    "X_train=pd.read_parquet(X_train_path)\n",
    "y_train=pd.read_parquet(y_train_path).iloc[:, 0]\n",
    "X_test=pd.read_parquet(X_test_path)\n",
    "y_test=pd.read_parquet(y_test_path).iloc[:, 0]"
   ]
  },
  {
   "cell_type": "code",
   "execution_count": 27,
   "id": "bfb09907",
   "metadata": {},
   "outputs": [
    {
     "name": "stdout",
     "output_type": "stream",
     "text": [
      "(3946, 12) (3946,) (439, 12) (439,)\n"
     ]
    }
   ],
   "source": [
    "print(X_train.shape, y_train.shape, X_test.shape, y_test.shape)"
   ]
  }
 ],
 "metadata": {
  "kernelspec": {
   "display_name": "amlexam",
   "language": "python",
   "name": "python3"
  },
  "language_info": {
   "codemirror_mode": {
    "name": "ipython",
    "version": 3
   },
   "file_extension": ".py",
   "mimetype": "text/x-python",
   "name": "python",
   "nbconvert_exporter": "python",
   "pygments_lexer": "ipython3",
   "version": "3.11.13"
  }
 },
 "nbformat": 4,
 "nbformat_minor": 5
}
